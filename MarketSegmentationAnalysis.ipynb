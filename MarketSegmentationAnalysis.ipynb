{
 "cells": [
  {
   "cell_type": "code",
   "execution_count": 426,
   "id": "ed1adafc",
   "metadata": {},
   "outputs": [],
   "source": [
    "# Importing mandatory Libraries\n",
    "import pandas as pd\n",
    "import numpy as np\n",
    "import matplotlib.pyplot as plt\n",
    "import seaborn as sb\n",
    "import warnings\n",
    "warnings.filterwarnings(\"ignore\")"
   ]
  },
  {
   "cell_type": "code",
   "execution_count": 427,
   "id": "f168cc2c",
   "metadata": {},
   "outputs": [
    {
     "data": {
      "text/plain": [
       "(1453, 15)"
      ]
     },
     "execution_count": 427,
     "metadata": {},
     "output_type": "execute_result"
    }
   ],
   "source": [
    "df = pd.read_csv(\"data.csv\")\n",
    "df.shape"
   ]
  },
  {
   "cell_type": "code",
   "execution_count": 428,
   "id": "9fe5fd07",
   "metadata": {},
   "outputs": [
    {
     "data": {
      "text/html": [
       "<div>\n",
       "<style scoped>\n",
       "    .dataframe tbody tr th:only-of-type {\n",
       "        vertical-align: middle;\n",
       "    }\n",
       "\n",
       "    .dataframe tbody tr th {\n",
       "        vertical-align: top;\n",
       "    }\n",
       "\n",
       "    .dataframe thead th {\n",
       "        text-align: right;\n",
       "    }\n",
       "</style>\n",
       "<table border=\"1\" class=\"dataframe\">\n",
       "  <thead>\n",
       "    <tr style=\"text-align: right;\">\n",
       "      <th></th>\n",
       "      <th>yummy</th>\n",
       "      <th>convenient</th>\n",
       "      <th>spicy</th>\n",
       "      <th>fattening</th>\n",
       "      <th>greasy</th>\n",
       "      <th>fast</th>\n",
       "      <th>cheap</th>\n",
       "      <th>tasty</th>\n",
       "      <th>expensive</th>\n",
       "      <th>healthy</th>\n",
       "      <th>disgusting</th>\n",
       "      <th>Like</th>\n",
       "      <th>Age</th>\n",
       "      <th>VisitFrequency</th>\n",
       "      <th>Gender</th>\n",
       "    </tr>\n",
       "  </thead>\n",
       "  <tbody>\n",
       "    <tr>\n",
       "      <th>0</th>\n",
       "      <td>No</td>\n",
       "      <td>Yes</td>\n",
       "      <td>No</td>\n",
       "      <td>Yes</td>\n",
       "      <td>No</td>\n",
       "      <td>Yes</td>\n",
       "      <td>Yes</td>\n",
       "      <td>No</td>\n",
       "      <td>Yes</td>\n",
       "      <td>No</td>\n",
       "      <td>No</td>\n",
       "      <td>-3</td>\n",
       "      <td>61</td>\n",
       "      <td>Every three months</td>\n",
       "      <td>Female</td>\n",
       "    </tr>\n",
       "    <tr>\n",
       "      <th>1</th>\n",
       "      <td>Yes</td>\n",
       "      <td>Yes</td>\n",
       "      <td>No</td>\n",
       "      <td>Yes</td>\n",
       "      <td>Yes</td>\n",
       "      <td>Yes</td>\n",
       "      <td>Yes</td>\n",
       "      <td>Yes</td>\n",
       "      <td>Yes</td>\n",
       "      <td>No</td>\n",
       "      <td>No</td>\n",
       "      <td>+2</td>\n",
       "      <td>51</td>\n",
       "      <td>Every three months</td>\n",
       "      <td>Female</td>\n",
       "    </tr>\n",
       "    <tr>\n",
       "      <th>2</th>\n",
       "      <td>No</td>\n",
       "      <td>Yes</td>\n",
       "      <td>Yes</td>\n",
       "      <td>Yes</td>\n",
       "      <td>Yes</td>\n",
       "      <td>Yes</td>\n",
       "      <td>No</td>\n",
       "      <td>Yes</td>\n",
       "      <td>Yes</td>\n",
       "      <td>Yes</td>\n",
       "      <td>No</td>\n",
       "      <td>+1</td>\n",
       "      <td>62</td>\n",
       "      <td>Every three months</td>\n",
       "      <td>Female</td>\n",
       "    </tr>\n",
       "    <tr>\n",
       "      <th>3</th>\n",
       "      <td>Yes</td>\n",
       "      <td>Yes</td>\n",
       "      <td>No</td>\n",
       "      <td>Yes</td>\n",
       "      <td>Yes</td>\n",
       "      <td>Yes</td>\n",
       "      <td>Yes</td>\n",
       "      <td>Yes</td>\n",
       "      <td>No</td>\n",
       "      <td>No</td>\n",
       "      <td>Yes</td>\n",
       "      <td>+4</td>\n",
       "      <td>69</td>\n",
       "      <td>Once a week</td>\n",
       "      <td>Female</td>\n",
       "    </tr>\n",
       "    <tr>\n",
       "      <th>4</th>\n",
       "      <td>No</td>\n",
       "      <td>Yes</td>\n",
       "      <td>No</td>\n",
       "      <td>Yes</td>\n",
       "      <td>Yes</td>\n",
       "      <td>Yes</td>\n",
       "      <td>Yes</td>\n",
       "      <td>No</td>\n",
       "      <td>No</td>\n",
       "      <td>Yes</td>\n",
       "      <td>No</td>\n",
       "      <td>+2</td>\n",
       "      <td>49</td>\n",
       "      <td>Once a month</td>\n",
       "      <td>Male</td>\n",
       "    </tr>\n",
       "  </tbody>\n",
       "</table>\n",
       "</div>"
      ],
      "text/plain": [
       "  yummy convenient spicy fattening greasy fast cheap tasty expensive healthy  \\\n",
       "0    No        Yes    No       Yes     No  Yes   Yes    No       Yes      No   \n",
       "1   Yes        Yes    No       Yes    Yes  Yes   Yes   Yes       Yes      No   \n",
       "2    No        Yes   Yes       Yes    Yes  Yes    No   Yes       Yes     Yes   \n",
       "3   Yes        Yes    No       Yes    Yes  Yes   Yes   Yes        No      No   \n",
       "4    No        Yes    No       Yes    Yes  Yes   Yes    No        No     Yes   \n",
       "\n",
       "  disgusting Like  Age      VisitFrequency  Gender  \n",
       "0         No   -3   61  Every three months  Female  \n",
       "1         No   +2   51  Every three months  Female  \n",
       "2         No   +1   62  Every three months  Female  \n",
       "3        Yes   +4   69         Once a week  Female  \n",
       "4         No   +2   49        Once a month    Male  "
      ]
     },
     "execution_count": 428,
     "metadata": {},
     "output_type": "execute_result"
    }
   ],
   "source": [
    "df.head()"
   ]
  },
  {
   "cell_type": "code",
   "execution_count": 429,
   "id": "97e2851c",
   "metadata": {},
   "outputs": [
    {
     "name": "stdout",
     "output_type": "stream",
     "text": [
      "<class 'pandas.core.frame.DataFrame'>\n",
      "RangeIndex: 1453 entries, 0 to 1452\n",
      "Data columns (total 15 columns):\n",
      " #   Column          Non-Null Count  Dtype \n",
      "---  ------          --------------  ----- \n",
      " 0   yummy           1453 non-null   object\n",
      " 1   convenient      1453 non-null   object\n",
      " 2   spicy           1453 non-null   object\n",
      " 3   fattening       1453 non-null   object\n",
      " 4   greasy          1453 non-null   object\n",
      " 5   fast            1453 non-null   object\n",
      " 6   cheap           1453 non-null   object\n",
      " 7   tasty           1453 non-null   object\n",
      " 8   expensive       1453 non-null   object\n",
      " 9   healthy         1453 non-null   object\n",
      " 10  disgusting      1453 non-null   object\n",
      " 11  Like            1453 non-null   object\n",
      " 12  Age             1453 non-null   int64 \n",
      " 13  VisitFrequency  1453 non-null   object\n",
      " 14  Gender          1453 non-null   object\n",
      "dtypes: int64(1), object(14)\n",
      "memory usage: 170.4+ KB\n"
     ]
    }
   ],
   "source": [
    "df.info()"
   ]
  },
  {
   "cell_type": "code",
   "execution_count": 430,
   "id": "ec7c7f62",
   "metadata": {},
   "outputs": [
    {
     "data": {
      "text/html": [
       "<div>\n",
       "<style scoped>\n",
       "    .dataframe tbody tr th:only-of-type {\n",
       "        vertical-align: middle;\n",
       "    }\n",
       "\n",
       "    .dataframe tbody tr th {\n",
       "        vertical-align: top;\n",
       "    }\n",
       "\n",
       "    .dataframe thead th {\n",
       "        text-align: right;\n",
       "    }\n",
       "</style>\n",
       "<table border=\"1\" class=\"dataframe\">\n",
       "  <thead>\n",
       "    <tr style=\"text-align: right;\">\n",
       "      <th></th>\n",
       "      <th>Age</th>\n",
       "    </tr>\n",
       "  </thead>\n",
       "  <tbody>\n",
       "    <tr>\n",
       "      <th>count</th>\n",
       "      <td>1453.000000</td>\n",
       "    </tr>\n",
       "    <tr>\n",
       "      <th>mean</th>\n",
       "      <td>44.604955</td>\n",
       "    </tr>\n",
       "    <tr>\n",
       "      <th>std</th>\n",
       "      <td>14.221178</td>\n",
       "    </tr>\n",
       "    <tr>\n",
       "      <th>min</th>\n",
       "      <td>18.000000</td>\n",
       "    </tr>\n",
       "    <tr>\n",
       "      <th>25%</th>\n",
       "      <td>33.000000</td>\n",
       "    </tr>\n",
       "    <tr>\n",
       "      <th>50%</th>\n",
       "      <td>45.000000</td>\n",
       "    </tr>\n",
       "    <tr>\n",
       "      <th>75%</th>\n",
       "      <td>57.000000</td>\n",
       "    </tr>\n",
       "    <tr>\n",
       "      <th>max</th>\n",
       "      <td>71.000000</td>\n",
       "    </tr>\n",
       "  </tbody>\n",
       "</table>\n",
       "</div>"
      ],
      "text/plain": [
       "               Age\n",
       "count  1453.000000\n",
       "mean     44.604955\n",
       "std      14.221178\n",
       "min      18.000000\n",
       "25%      33.000000\n",
       "50%      45.000000\n",
       "75%      57.000000\n",
       "max      71.000000"
      ]
     },
     "execution_count": 430,
     "metadata": {},
     "output_type": "execute_result"
    }
   ],
   "source": [
    "df.describe()"
   ]
  },
  {
   "cell_type": "code",
   "execution_count": 431,
   "id": "b3b1692b",
   "metadata": {},
   "outputs": [
    {
     "data": {
      "text/plain": [
       "yummy             0\n",
       "convenient        0\n",
       "spicy             0\n",
       "fattening         0\n",
       "greasy            0\n",
       "fast              0\n",
       "cheap             0\n",
       "tasty             0\n",
       "expensive         0\n",
       "healthy           0\n",
       "disgusting        0\n",
       "Like              0\n",
       "Age               0\n",
       "VisitFrequency    0\n",
       "Gender            0\n",
       "dtype: int64"
      ]
     },
     "execution_count": 431,
     "metadata": {},
     "output_type": "execute_result"
    }
   ],
   "source": [
    "df.isnull().sum()"
   ]
  },
  {
   "cell_type": "markdown",
   "id": "4fd00097",
   "metadata": {},
   "source": [
    "## Preprocessing"
   ]
  },
  {
   "cell_type": "markdown",
   "id": "f6380feb",
   "metadata": {},
   "source": [
    "### Yummy"
   ]
  },
  {
   "cell_type": "code",
   "execution_count": 432,
   "id": "4033126d",
   "metadata": {},
   "outputs": [
    {
     "data": {
      "text/plain": [
       "array(['No', 'Yes'], dtype=object)"
      ]
     },
     "execution_count": 432,
     "metadata": {},
     "output_type": "execute_result"
    }
   ],
   "source": [
    "df['yummy'].unique()"
   ]
  },
  {
   "cell_type": "code",
   "execution_count": 433,
   "id": "27e985fb",
   "metadata": {},
   "outputs": [],
   "source": [
    "df['yummy'] = df[\"yummy\"].replace({\"No\":\"0\", \"Yes\":\"1\"})\n",
    "df['yummy'] = pd.to_numeric(df['yummy'])"
   ]
  },
  {
   "cell_type": "markdown",
   "id": "0344f76d",
   "metadata": {},
   "source": [
    "### Convenient"
   ]
  },
  {
   "cell_type": "code",
   "execution_count": 434,
   "id": "5f38d95e",
   "metadata": {},
   "outputs": [
    {
     "data": {
      "text/plain": [
       "array(['Yes', 'No'], dtype=object)"
      ]
     },
     "execution_count": 434,
     "metadata": {},
     "output_type": "execute_result"
    }
   ],
   "source": [
    "df['convenient'].unique()"
   ]
  },
  {
   "cell_type": "code",
   "execution_count": 435,
   "id": "806e0bf1",
   "metadata": {},
   "outputs": [],
   "source": [
    "df['convenient'] = df[\"convenient\"].replace({\"No\":\"0\", \"Yes\":\"1\"})\n",
    "df['convenient'] = pd.to_numeric(df['convenient'])"
   ]
  },
  {
   "cell_type": "markdown",
   "id": "92160f46",
   "metadata": {},
   "source": [
    "### Spicy"
   ]
  },
  {
   "cell_type": "code",
   "execution_count": 436,
   "id": "61dccef5",
   "metadata": {},
   "outputs": [
    {
     "data": {
      "text/plain": [
       "array(['No', 'Yes'], dtype=object)"
      ]
     },
     "execution_count": 436,
     "metadata": {},
     "output_type": "execute_result"
    }
   ],
   "source": [
    "df['spicy'].unique()"
   ]
  },
  {
   "cell_type": "code",
   "execution_count": 437,
   "id": "22d792e0",
   "metadata": {},
   "outputs": [],
   "source": [
    "df['spicy'] = df[\"spicy\"].replace({\"No\":\"0\", \"Yes\":\"1\"})\n",
    "df['spicy'] = pd.to_numeric(df['spicy'])"
   ]
  },
  {
   "cell_type": "markdown",
   "id": "6dad12d8",
   "metadata": {},
   "source": [
    "### Fattening"
   ]
  },
  {
   "cell_type": "code",
   "execution_count": 438,
   "id": "2163b9b7",
   "metadata": {},
   "outputs": [
    {
     "data": {
      "text/plain": [
       "array(['Yes', 'No'], dtype=object)"
      ]
     },
     "execution_count": 438,
     "metadata": {},
     "output_type": "execute_result"
    }
   ],
   "source": [
    "df['fattening'].unique()"
   ]
  },
  {
   "cell_type": "code",
   "execution_count": 439,
   "id": "ded442ea",
   "metadata": {},
   "outputs": [],
   "source": [
    "df['fattening'] = df[\"fattening\"].replace({\"No\":\"0\", \"Yes\":\"1\"})\n",
    "df['fattening'] = pd.to_numeric(df['fattening'])"
   ]
  },
  {
   "cell_type": "markdown",
   "id": "310d1dff",
   "metadata": {},
   "source": [
    "### Greasy"
   ]
  },
  {
   "cell_type": "code",
   "execution_count": 440,
   "id": "b7125e1a",
   "metadata": {},
   "outputs": [
    {
     "data": {
      "text/plain": [
       "array(['No', 'Yes'], dtype=object)"
      ]
     },
     "execution_count": 440,
     "metadata": {},
     "output_type": "execute_result"
    }
   ],
   "source": [
    "df['greasy'].unique()"
   ]
  },
  {
   "cell_type": "code",
   "execution_count": 441,
   "id": "c9b87bc3",
   "metadata": {},
   "outputs": [],
   "source": [
    "df['greasy'] = df[\"greasy\"].replace({\"No\":\"0\", \"Yes\":\"1\"})\n",
    "df['greasy'] = pd.to_numeric(df['greasy'])"
   ]
  },
  {
   "cell_type": "markdown",
   "id": "d72cdbb9",
   "metadata": {},
   "source": [
    "### Fast"
   ]
  },
  {
   "cell_type": "code",
   "execution_count": 442,
   "id": "92f72322",
   "metadata": {},
   "outputs": [
    {
     "data": {
      "text/plain": [
       "array(['Yes', 'No'], dtype=object)"
      ]
     },
     "execution_count": 442,
     "metadata": {},
     "output_type": "execute_result"
    }
   ],
   "source": [
    "df['fast'].unique()"
   ]
  },
  {
   "cell_type": "code",
   "execution_count": 443,
   "id": "340226a6",
   "metadata": {},
   "outputs": [],
   "source": [
    "df['fast'] = df[\"fast\"].replace({\"No\":\"0\", \"Yes\":\"1\"})\n",
    "df['fast'] = pd.to_numeric(df['fast'])"
   ]
  },
  {
   "cell_type": "markdown",
   "id": "bfb43e14",
   "metadata": {},
   "source": [
    "### Cheap"
   ]
  },
  {
   "cell_type": "code",
   "execution_count": 444,
   "id": "85e8cf3c",
   "metadata": {},
   "outputs": [
    {
     "data": {
      "text/plain": [
       "array(['Yes', 'No'], dtype=object)"
      ]
     },
     "execution_count": 444,
     "metadata": {},
     "output_type": "execute_result"
    }
   ],
   "source": [
    "df['cheap'].unique()"
   ]
  },
  {
   "cell_type": "code",
   "execution_count": 445,
   "id": "1d170edb",
   "metadata": {},
   "outputs": [],
   "source": [
    "df['cheap'] = df[\"cheap\"].replace({\"No\":\"0\", \"Yes\":\"1\"})\n",
    "df['cheap'] = pd.to_numeric(df['cheap'])"
   ]
  },
  {
   "cell_type": "markdown",
   "id": "45a2216d",
   "metadata": {},
   "source": [
    "### Tasty"
   ]
  },
  {
   "cell_type": "code",
   "execution_count": 446,
   "id": "254079e5",
   "metadata": {},
   "outputs": [
    {
     "data": {
      "text/plain": [
       "array(['No', 'Yes'], dtype=object)"
      ]
     },
     "execution_count": 446,
     "metadata": {},
     "output_type": "execute_result"
    }
   ],
   "source": [
    "df['tasty'].unique()"
   ]
  },
  {
   "cell_type": "code",
   "execution_count": 447,
   "id": "c1ea9cd5",
   "metadata": {},
   "outputs": [],
   "source": [
    "df['tasty'] = df[\"tasty\"].replace({\"No\":\"0\", \"Yes\":\"1\"})\n",
    "df['tasty'] = pd.to_numeric(df['tasty'])"
   ]
  },
  {
   "cell_type": "markdown",
   "id": "a7cd8cd1",
   "metadata": {},
   "source": [
    "### Expensive"
   ]
  },
  {
   "cell_type": "code",
   "execution_count": 448,
   "id": "cfb5c6fd",
   "metadata": {},
   "outputs": [
    {
     "data": {
      "text/plain": [
       "array(['Yes', 'No'], dtype=object)"
      ]
     },
     "execution_count": 448,
     "metadata": {},
     "output_type": "execute_result"
    }
   ],
   "source": [
    "df['expensive'].unique()"
   ]
  },
  {
   "cell_type": "code",
   "execution_count": 449,
   "id": "ebe6be0a",
   "metadata": {},
   "outputs": [],
   "source": [
    "df['expensive'] = df[\"expensive\"].replace({\"No\":\"0\", \"Yes\":\"1\"})\n",
    "df['expensive'] = pd.to_numeric(df['expensive'])"
   ]
  },
  {
   "cell_type": "markdown",
   "id": "b9404bfc",
   "metadata": {},
   "source": [
    "### Healthy"
   ]
  },
  {
   "cell_type": "code",
   "execution_count": 450,
   "id": "26eda492",
   "metadata": {},
   "outputs": [
    {
     "data": {
      "text/plain": [
       "array(['No', 'Yes'], dtype=object)"
      ]
     },
     "execution_count": 450,
     "metadata": {},
     "output_type": "execute_result"
    }
   ],
   "source": [
    "df['healthy'].unique()"
   ]
  },
  {
   "cell_type": "code",
   "execution_count": 451,
   "id": "a3e58014",
   "metadata": {},
   "outputs": [],
   "source": [
    "df['healthy'] = df[\"healthy\"].replace({\"No\":\"0\", \"Yes\":\"1\"})\n",
    "df['healthy'] = pd.to_numeric(df['healthy'])"
   ]
  },
  {
   "cell_type": "markdown",
   "id": "c360e583",
   "metadata": {},
   "source": [
    "### Disgusting"
   ]
  },
  {
   "cell_type": "code",
   "execution_count": 452,
   "id": "2a8b4f63",
   "metadata": {},
   "outputs": [
    {
     "data": {
      "text/plain": [
       "array(['No', 'Yes'], dtype=object)"
      ]
     },
     "execution_count": 452,
     "metadata": {},
     "output_type": "execute_result"
    }
   ],
   "source": [
    "df['disgusting'].unique()"
   ]
  },
  {
   "cell_type": "code",
   "execution_count": 453,
   "id": "bf2c55ef",
   "metadata": {},
   "outputs": [],
   "source": [
    "df['disgusting'] = df[\"disgusting\"].replace({\"No\":\"0\", \"Yes\":\"1\"})\n",
    "df['disgusting'] = pd.to_numeric(df['disgusting'])"
   ]
  },
  {
   "cell_type": "markdown",
   "id": "7fb2588f",
   "metadata": {},
   "source": [
    "### Like"
   ]
  },
  {
   "cell_type": "code",
   "execution_count": 454,
   "id": "9f9e8a38",
   "metadata": {},
   "outputs": [
    {
     "data": {
      "text/plain": [
       "array(['-3', '+2', '+1', '+4', 'I love it!+5', 'I hate it!-5', '-2', '+3',\n",
       "       '0', '-4', '-1'], dtype=object)"
      ]
     },
     "execution_count": 454,
     "metadata": {},
     "output_type": "execute_result"
    }
   ],
   "source": [
    "df[\"Like\"].unique()"
   ]
  },
  {
   "cell_type": "code",
   "execution_count": 455,
   "id": "dc6747ae",
   "metadata": {},
   "outputs": [
    {
     "data": {
      "text/plain": [
       "array([ 6,  1,  0,  3, 10,  9,  5,  2,  8,  7,  4])"
      ]
     },
     "execution_count": 455,
     "metadata": {},
     "output_type": "execute_result"
    }
   ],
   "source": [
    "from sklearn.preprocessing import LabelEncoder\n",
    "\n",
    "le = LabelEncoder()\n",
    "df[\"Like\"] = le.fit_transform(df[\"Like\"])\n",
    "df['Like'] = pd.to_numeric(df['Like'])\n",
    "\n",
    "df[\"Like\"].unique()"
   ]
  },
  {
   "cell_type": "markdown",
   "id": "7b2e861e",
   "metadata": {},
   "source": [
    "### Age"
   ]
  },
  {
   "cell_type": "markdown",
   "id": "de667dd7",
   "metadata": {},
   "source": [
    "##### Age contains numerical data "
   ]
  },
  {
   "cell_type": "markdown",
   "id": "09e13148",
   "metadata": {},
   "source": [
    "### Visit Frequency"
   ]
  },
  {
   "cell_type": "code",
   "execution_count": 456,
   "id": "ac747559",
   "metadata": {},
   "outputs": [
    {
     "data": {
      "text/plain": [
       "array(['Every three months', 'Once a week', 'Once a month', 'Once a year',\n",
       "       'More than once a week', 'Never'], dtype=object)"
      ]
     },
     "execution_count": 456,
     "metadata": {},
     "output_type": "execute_result"
    }
   ],
   "source": [
    "df[\"VisitFrequency\"].unique()"
   ]
  },
  {
   "cell_type": "code",
   "execution_count": 457,
   "id": "88223e66",
   "metadata": {},
   "outputs": [
    {
     "data": {
      "text/plain": [
       "Once a month             439\n",
       "Every three months       342\n",
       "Once a year              252\n",
       "Once a week              235\n",
       "Never                    131\n",
       "More than once a week     54\n",
       "Name: VisitFrequency, dtype: int64"
      ]
     },
     "execution_count": 457,
     "metadata": {},
     "output_type": "execute_result"
    }
   ],
   "source": [
    "df[\"VisitFrequency\"].value_counts()"
   ]
  },
  {
   "cell_type": "code",
   "execution_count": 458,
   "id": "fd55604b",
   "metadata": {},
   "outputs": [],
   "source": [
    "from sklearn.preprocessing import OneHotEncoder\n",
    "\n",
    "ohe = OneHotEncoder()\n",
    "feature_array = ohe.fit_transform(df[[\"VisitFrequency\"]]).toarray()"
   ]
  },
  {
   "cell_type": "code",
   "execution_count": 459,
   "id": "9cd4c94c",
   "metadata": {},
   "outputs": [
    {
     "data": {
      "text/plain": [
       "[array(['Every three months', 'More than once a week', 'Never',\n",
       "        'Once a month', 'Once a week', 'Once a year'], dtype=object)]"
      ]
     },
     "execution_count": 459,
     "metadata": {},
     "output_type": "execute_result"
    }
   ],
   "source": [
    "ohe.categories_"
   ]
  },
  {
   "cell_type": "code",
   "execution_count": 460,
   "id": "f963102f",
   "metadata": {},
   "outputs": [],
   "source": [
    "feature_labels = np.array(ohe.categories_).ravel()"
   ]
  },
  {
   "cell_type": "code",
   "execution_count": 461,
   "id": "155180b1",
   "metadata": {},
   "outputs": [
    {
     "data": {
      "text/html": [
       "<div>\n",
       "<style scoped>\n",
       "    .dataframe tbody tr th:only-of-type {\n",
       "        vertical-align: middle;\n",
       "    }\n",
       "\n",
       "    .dataframe tbody tr th {\n",
       "        vertical-align: top;\n",
       "    }\n",
       "\n",
       "    .dataframe thead th {\n",
       "        text-align: right;\n",
       "    }\n",
       "</style>\n",
       "<table border=\"1\" class=\"dataframe\">\n",
       "  <thead>\n",
       "    <tr style=\"text-align: right;\">\n",
       "      <th></th>\n",
       "      <th>Every three months</th>\n",
       "      <th>More than once a week</th>\n",
       "      <th>Never</th>\n",
       "      <th>Once a month</th>\n",
       "      <th>Once a week</th>\n",
       "      <th>Once a year</th>\n",
       "    </tr>\n",
       "  </thead>\n",
       "  <tbody>\n",
       "    <tr>\n",
       "      <th>0</th>\n",
       "      <td>1.0</td>\n",
       "      <td>0.0</td>\n",
       "      <td>0.0</td>\n",
       "      <td>0.0</td>\n",
       "      <td>0.0</td>\n",
       "      <td>0.0</td>\n",
       "    </tr>\n",
       "    <tr>\n",
       "      <th>1</th>\n",
       "      <td>1.0</td>\n",
       "      <td>0.0</td>\n",
       "      <td>0.0</td>\n",
       "      <td>0.0</td>\n",
       "      <td>0.0</td>\n",
       "      <td>0.0</td>\n",
       "    </tr>\n",
       "    <tr>\n",
       "      <th>2</th>\n",
       "      <td>1.0</td>\n",
       "      <td>0.0</td>\n",
       "      <td>0.0</td>\n",
       "      <td>0.0</td>\n",
       "      <td>0.0</td>\n",
       "      <td>0.0</td>\n",
       "    </tr>\n",
       "    <tr>\n",
       "      <th>3</th>\n",
       "      <td>0.0</td>\n",
       "      <td>0.0</td>\n",
       "      <td>0.0</td>\n",
       "      <td>0.0</td>\n",
       "      <td>1.0</td>\n",
       "      <td>0.0</td>\n",
       "    </tr>\n",
       "    <tr>\n",
       "      <th>4</th>\n",
       "      <td>0.0</td>\n",
       "      <td>0.0</td>\n",
       "      <td>0.0</td>\n",
       "      <td>1.0</td>\n",
       "      <td>0.0</td>\n",
       "      <td>0.0</td>\n",
       "    </tr>\n",
       "    <tr>\n",
       "      <th>...</th>\n",
       "      <td>...</td>\n",
       "      <td>...</td>\n",
       "      <td>...</td>\n",
       "      <td>...</td>\n",
       "      <td>...</td>\n",
       "      <td>...</td>\n",
       "    </tr>\n",
       "    <tr>\n",
       "      <th>1448</th>\n",
       "      <td>0.0</td>\n",
       "      <td>0.0</td>\n",
       "      <td>0.0</td>\n",
       "      <td>0.0</td>\n",
       "      <td>0.0</td>\n",
       "      <td>1.0</td>\n",
       "    </tr>\n",
       "    <tr>\n",
       "      <th>1449</th>\n",
       "      <td>0.0</td>\n",
       "      <td>0.0</td>\n",
       "      <td>0.0</td>\n",
       "      <td>0.0</td>\n",
       "      <td>1.0</td>\n",
       "      <td>0.0</td>\n",
       "    </tr>\n",
       "    <tr>\n",
       "      <th>1450</th>\n",
       "      <td>0.0</td>\n",
       "      <td>0.0</td>\n",
       "      <td>0.0</td>\n",
       "      <td>1.0</td>\n",
       "      <td>0.0</td>\n",
       "      <td>0.0</td>\n",
       "    </tr>\n",
       "    <tr>\n",
       "      <th>1451</th>\n",
       "      <td>1.0</td>\n",
       "      <td>0.0</td>\n",
       "      <td>0.0</td>\n",
       "      <td>0.0</td>\n",
       "      <td>0.0</td>\n",
       "      <td>0.0</td>\n",
       "    </tr>\n",
       "    <tr>\n",
       "      <th>1452</th>\n",
       "      <td>1.0</td>\n",
       "      <td>0.0</td>\n",
       "      <td>0.0</td>\n",
       "      <td>0.0</td>\n",
       "      <td>0.0</td>\n",
       "      <td>0.0</td>\n",
       "    </tr>\n",
       "  </tbody>\n",
       "</table>\n",
       "<p>1453 rows × 6 columns</p>\n",
       "</div>"
      ],
      "text/plain": [
       "      Every three months  More than once a week  Never  Once a month  \\\n",
       "0                    1.0                    0.0    0.0           0.0   \n",
       "1                    1.0                    0.0    0.0           0.0   \n",
       "2                    1.0                    0.0    0.0           0.0   \n",
       "3                    0.0                    0.0    0.0           0.0   \n",
       "4                    0.0                    0.0    0.0           1.0   \n",
       "...                  ...                    ...    ...           ...   \n",
       "1448                 0.0                    0.0    0.0           0.0   \n",
       "1449                 0.0                    0.0    0.0           0.0   \n",
       "1450                 0.0                    0.0    0.0           1.0   \n",
       "1451                 1.0                    0.0    0.0           0.0   \n",
       "1452                 1.0                    0.0    0.0           0.0   \n",
       "\n",
       "      Once a week  Once a year  \n",
       "0             0.0          0.0  \n",
       "1             0.0          0.0  \n",
       "2             0.0          0.0  \n",
       "3             1.0          0.0  \n",
       "4             0.0          0.0  \n",
       "...           ...          ...  \n",
       "1448          0.0          1.0  \n",
       "1449          1.0          0.0  \n",
       "1450          0.0          0.0  \n",
       "1451          0.0          0.0  \n",
       "1452          0.0          0.0  \n",
       "\n",
       "[1453 rows x 6 columns]"
      ]
     },
     "execution_count": 461,
     "metadata": {},
     "output_type": "execute_result"
    }
   ],
   "source": [
    "features = pd.DataFrame(feature_array, columns=feature_labels)\n",
    "features"
   ]
  },
  {
   "cell_type": "code",
   "execution_count": 462,
   "id": "c7fd2f17",
   "metadata": {},
   "outputs": [
    {
     "data": {
      "text/html": [
       "<div>\n",
       "<style scoped>\n",
       "    .dataframe tbody tr th:only-of-type {\n",
       "        vertical-align: middle;\n",
       "    }\n",
       "\n",
       "    .dataframe tbody tr th {\n",
       "        vertical-align: top;\n",
       "    }\n",
       "\n",
       "    .dataframe thead th {\n",
       "        text-align: right;\n",
       "    }\n",
       "</style>\n",
       "<table border=\"1\" class=\"dataframe\">\n",
       "  <thead>\n",
       "    <tr style=\"text-align: right;\">\n",
       "      <th></th>\n",
       "      <th>yummy</th>\n",
       "      <th>convenient</th>\n",
       "      <th>spicy</th>\n",
       "      <th>fattening</th>\n",
       "      <th>greasy</th>\n",
       "      <th>fast</th>\n",
       "      <th>cheap</th>\n",
       "      <th>tasty</th>\n",
       "      <th>expensive</th>\n",
       "      <th>healthy</th>\n",
       "      <th>...</th>\n",
       "      <th>Like</th>\n",
       "      <th>Age</th>\n",
       "      <th>VisitFrequency</th>\n",
       "      <th>Gender</th>\n",
       "      <th>Every three months</th>\n",
       "      <th>More than once a week</th>\n",
       "      <th>Never</th>\n",
       "      <th>Once a month</th>\n",
       "      <th>Once a week</th>\n",
       "      <th>Once a year</th>\n",
       "    </tr>\n",
       "  </thead>\n",
       "  <tbody>\n",
       "    <tr>\n",
       "      <th>0</th>\n",
       "      <td>0</td>\n",
       "      <td>1</td>\n",
       "      <td>0</td>\n",
       "      <td>1</td>\n",
       "      <td>0</td>\n",
       "      <td>1</td>\n",
       "      <td>1</td>\n",
       "      <td>0</td>\n",
       "      <td>1</td>\n",
       "      <td>0</td>\n",
       "      <td>...</td>\n",
       "      <td>6</td>\n",
       "      <td>61</td>\n",
       "      <td>Every three months</td>\n",
       "      <td>Female</td>\n",
       "      <td>1.0</td>\n",
       "      <td>0.0</td>\n",
       "      <td>0.0</td>\n",
       "      <td>0.0</td>\n",
       "      <td>0.0</td>\n",
       "      <td>0.0</td>\n",
       "    </tr>\n",
       "    <tr>\n",
       "      <th>1</th>\n",
       "      <td>1</td>\n",
       "      <td>1</td>\n",
       "      <td>0</td>\n",
       "      <td>1</td>\n",
       "      <td>1</td>\n",
       "      <td>1</td>\n",
       "      <td>1</td>\n",
       "      <td>1</td>\n",
       "      <td>1</td>\n",
       "      <td>0</td>\n",
       "      <td>...</td>\n",
       "      <td>1</td>\n",
       "      <td>51</td>\n",
       "      <td>Every three months</td>\n",
       "      <td>Female</td>\n",
       "      <td>1.0</td>\n",
       "      <td>0.0</td>\n",
       "      <td>0.0</td>\n",
       "      <td>0.0</td>\n",
       "      <td>0.0</td>\n",
       "      <td>0.0</td>\n",
       "    </tr>\n",
       "    <tr>\n",
       "      <th>2</th>\n",
       "      <td>0</td>\n",
       "      <td>1</td>\n",
       "      <td>1</td>\n",
       "      <td>1</td>\n",
       "      <td>1</td>\n",
       "      <td>1</td>\n",
       "      <td>0</td>\n",
       "      <td>1</td>\n",
       "      <td>1</td>\n",
       "      <td>1</td>\n",
       "      <td>...</td>\n",
       "      <td>0</td>\n",
       "      <td>62</td>\n",
       "      <td>Every three months</td>\n",
       "      <td>Female</td>\n",
       "      <td>1.0</td>\n",
       "      <td>0.0</td>\n",
       "      <td>0.0</td>\n",
       "      <td>0.0</td>\n",
       "      <td>0.0</td>\n",
       "      <td>0.0</td>\n",
       "    </tr>\n",
       "    <tr>\n",
       "      <th>3</th>\n",
       "      <td>1</td>\n",
       "      <td>1</td>\n",
       "      <td>0</td>\n",
       "      <td>1</td>\n",
       "      <td>1</td>\n",
       "      <td>1</td>\n",
       "      <td>1</td>\n",
       "      <td>1</td>\n",
       "      <td>0</td>\n",
       "      <td>0</td>\n",
       "      <td>...</td>\n",
       "      <td>3</td>\n",
       "      <td>69</td>\n",
       "      <td>Once a week</td>\n",
       "      <td>Female</td>\n",
       "      <td>0.0</td>\n",
       "      <td>0.0</td>\n",
       "      <td>0.0</td>\n",
       "      <td>0.0</td>\n",
       "      <td>1.0</td>\n",
       "      <td>0.0</td>\n",
       "    </tr>\n",
       "    <tr>\n",
       "      <th>4</th>\n",
       "      <td>0</td>\n",
       "      <td>1</td>\n",
       "      <td>0</td>\n",
       "      <td>1</td>\n",
       "      <td>1</td>\n",
       "      <td>1</td>\n",
       "      <td>1</td>\n",
       "      <td>0</td>\n",
       "      <td>0</td>\n",
       "      <td>1</td>\n",
       "      <td>...</td>\n",
       "      <td>1</td>\n",
       "      <td>49</td>\n",
       "      <td>Once a month</td>\n",
       "      <td>Male</td>\n",
       "      <td>0.0</td>\n",
       "      <td>0.0</td>\n",
       "      <td>0.0</td>\n",
       "      <td>1.0</td>\n",
       "      <td>0.0</td>\n",
       "      <td>0.0</td>\n",
       "    </tr>\n",
       "    <tr>\n",
       "      <th>...</th>\n",
       "      <td>...</td>\n",
       "      <td>...</td>\n",
       "      <td>...</td>\n",
       "      <td>...</td>\n",
       "      <td>...</td>\n",
       "      <td>...</td>\n",
       "      <td>...</td>\n",
       "      <td>...</td>\n",
       "      <td>...</td>\n",
       "      <td>...</td>\n",
       "      <td>...</td>\n",
       "      <td>...</td>\n",
       "      <td>...</td>\n",
       "      <td>...</td>\n",
       "      <td>...</td>\n",
       "      <td>...</td>\n",
       "      <td>...</td>\n",
       "      <td>...</td>\n",
       "      <td>...</td>\n",
       "      <td>...</td>\n",
       "      <td>...</td>\n",
       "    </tr>\n",
       "    <tr>\n",
       "      <th>1448</th>\n",
       "      <td>0</td>\n",
       "      <td>1</td>\n",
       "      <td>0</td>\n",
       "      <td>1</td>\n",
       "      <td>1</td>\n",
       "      <td>0</td>\n",
       "      <td>0</td>\n",
       "      <td>0</td>\n",
       "      <td>1</td>\n",
       "      <td>0</td>\n",
       "      <td>...</td>\n",
       "      <td>9</td>\n",
       "      <td>47</td>\n",
       "      <td>Once a year</td>\n",
       "      <td>Male</td>\n",
       "      <td>0.0</td>\n",
       "      <td>0.0</td>\n",
       "      <td>0.0</td>\n",
       "      <td>0.0</td>\n",
       "      <td>0.0</td>\n",
       "      <td>1.0</td>\n",
       "    </tr>\n",
       "    <tr>\n",
       "      <th>1449</th>\n",
       "      <td>1</td>\n",
       "      <td>1</td>\n",
       "      <td>0</td>\n",
       "      <td>1</td>\n",
       "      <td>0</td>\n",
       "      <td>0</td>\n",
       "      <td>1</td>\n",
       "      <td>1</td>\n",
       "      <td>0</td>\n",
       "      <td>1</td>\n",
       "      <td>...</td>\n",
       "      <td>1</td>\n",
       "      <td>36</td>\n",
       "      <td>Once a week</td>\n",
       "      <td>Female</td>\n",
       "      <td>0.0</td>\n",
       "      <td>0.0</td>\n",
       "      <td>0.0</td>\n",
       "      <td>0.0</td>\n",
       "      <td>1.0</td>\n",
       "      <td>0.0</td>\n",
       "    </tr>\n",
       "    <tr>\n",
       "      <th>1450</th>\n",
       "      <td>1</td>\n",
       "      <td>1</td>\n",
       "      <td>0</td>\n",
       "      <td>1</td>\n",
       "      <td>0</td>\n",
       "      <td>1</td>\n",
       "      <td>0</td>\n",
       "      <td>1</td>\n",
       "      <td>1</td>\n",
       "      <td>0</td>\n",
       "      <td>...</td>\n",
       "      <td>2</td>\n",
       "      <td>52</td>\n",
       "      <td>Once a month</td>\n",
       "      <td>Female</td>\n",
       "      <td>0.0</td>\n",
       "      <td>0.0</td>\n",
       "      <td>0.0</td>\n",
       "      <td>1.0</td>\n",
       "      <td>0.0</td>\n",
       "      <td>0.0</td>\n",
       "    </tr>\n",
       "    <tr>\n",
       "      <th>1451</th>\n",
       "      <td>1</td>\n",
       "      <td>1</td>\n",
       "      <td>0</td>\n",
       "      <td>0</td>\n",
       "      <td>0</td>\n",
       "      <td>1</td>\n",
       "      <td>1</td>\n",
       "      <td>1</td>\n",
       "      <td>0</td>\n",
       "      <td>1</td>\n",
       "      <td>...</td>\n",
       "      <td>3</td>\n",
       "      <td>41</td>\n",
       "      <td>Every three months</td>\n",
       "      <td>Male</td>\n",
       "      <td>1.0</td>\n",
       "      <td>0.0</td>\n",
       "      <td>0.0</td>\n",
       "      <td>0.0</td>\n",
       "      <td>0.0</td>\n",
       "      <td>0.0</td>\n",
       "    </tr>\n",
       "    <tr>\n",
       "      <th>1452</th>\n",
       "      <td>0</td>\n",
       "      <td>1</td>\n",
       "      <td>0</td>\n",
       "      <td>1</td>\n",
       "      <td>1</td>\n",
       "      <td>0</td>\n",
       "      <td>0</td>\n",
       "      <td>0</td>\n",
       "      <td>1</td>\n",
       "      <td>0</td>\n",
       "      <td>...</td>\n",
       "      <td>6</td>\n",
       "      <td>30</td>\n",
       "      <td>Every three months</td>\n",
       "      <td>Male</td>\n",
       "      <td>1.0</td>\n",
       "      <td>0.0</td>\n",
       "      <td>0.0</td>\n",
       "      <td>0.0</td>\n",
       "      <td>0.0</td>\n",
       "      <td>0.0</td>\n",
       "    </tr>\n",
       "  </tbody>\n",
       "</table>\n",
       "<p>1453 rows × 21 columns</p>\n",
       "</div>"
      ],
      "text/plain": [
       "      yummy  convenient  spicy  fattening  greasy  fast  cheap  tasty  \\\n",
       "0         0           1      0          1       0     1      1      0   \n",
       "1         1           1      0          1       1     1      1      1   \n",
       "2         0           1      1          1       1     1      0      1   \n",
       "3         1           1      0          1       1     1      1      1   \n",
       "4         0           1      0          1       1     1      1      0   \n",
       "...     ...         ...    ...        ...     ...   ...    ...    ...   \n",
       "1448      0           1      0          1       1     0      0      0   \n",
       "1449      1           1      0          1       0     0      1      1   \n",
       "1450      1           1      0          1       0     1      0      1   \n",
       "1451      1           1      0          0       0     1      1      1   \n",
       "1452      0           1      0          1       1     0      0      0   \n",
       "\n",
       "      expensive  healthy  ...  Like  Age      VisitFrequency  Gender  \\\n",
       "0             1        0  ...     6   61  Every three months  Female   \n",
       "1             1        0  ...     1   51  Every three months  Female   \n",
       "2             1        1  ...     0   62  Every three months  Female   \n",
       "3             0        0  ...     3   69         Once a week  Female   \n",
       "4             0        1  ...     1   49        Once a month    Male   \n",
       "...         ...      ...  ...   ...  ...                 ...     ...   \n",
       "1448          1        0  ...     9   47         Once a year    Male   \n",
       "1449          0        1  ...     1   36         Once a week  Female   \n",
       "1450          1        0  ...     2   52        Once a month  Female   \n",
       "1451          0        1  ...     3   41  Every three months    Male   \n",
       "1452          1        0  ...     6   30  Every three months    Male   \n",
       "\n",
       "     Every three months  More than once a week  Never  Once a month  \\\n",
       "0                   1.0                    0.0    0.0           0.0   \n",
       "1                   1.0                    0.0    0.0           0.0   \n",
       "2                   1.0                    0.0    0.0           0.0   \n",
       "3                   0.0                    0.0    0.0           0.0   \n",
       "4                   0.0                    0.0    0.0           1.0   \n",
       "...                 ...                    ...    ...           ...   \n",
       "1448                0.0                    0.0    0.0           0.0   \n",
       "1449                0.0                    0.0    0.0           0.0   \n",
       "1450                0.0                    0.0    0.0           1.0   \n",
       "1451                1.0                    0.0    0.0           0.0   \n",
       "1452                1.0                    0.0    0.0           0.0   \n",
       "\n",
       "      Once a week  Once a year  \n",
       "0             0.0          0.0  \n",
       "1             0.0          0.0  \n",
       "2             0.0          0.0  \n",
       "3             1.0          0.0  \n",
       "4             0.0          0.0  \n",
       "...           ...          ...  \n",
       "1448          0.0          1.0  \n",
       "1449          1.0          0.0  \n",
       "1450          0.0          0.0  \n",
       "1451          0.0          0.0  \n",
       "1452          0.0          0.0  \n",
       "\n",
       "[1453 rows x 21 columns]"
      ]
     },
     "execution_count": 462,
     "metadata": {},
     "output_type": "execute_result"
    }
   ],
   "source": [
    "df_new = pd.concat([df, features], axis=1)\n",
    "df_new"
   ]
  },
  {
   "cell_type": "code",
   "execution_count": 463,
   "id": "a942cae0",
   "metadata": {},
   "outputs": [],
   "source": [
    "df1 = df_new.drop([\"VisitFrequency\"], axis=1)"
   ]
  },
  {
   "cell_type": "markdown",
   "id": "cbb232cb",
   "metadata": {},
   "source": [
    "### Gender"
   ]
  },
  {
   "cell_type": "code",
   "execution_count": 464,
   "id": "4d73b20d",
   "metadata": {},
   "outputs": [
    {
     "data": {
      "text/plain": [
       "array(['Female', 'Male'], dtype=object)"
      ]
     },
     "execution_count": 464,
     "metadata": {},
     "output_type": "execute_result"
    }
   ],
   "source": [
    "df1['Gender'].unique()"
   ]
  },
  {
   "cell_type": "code",
   "execution_count": 465,
   "id": "bb291a21",
   "metadata": {},
   "outputs": [],
   "source": [
    "df1['Gender'] = df1[\"Gender\"].replace({\"Male\":\"0\", \"Female\":\"1\"})\n",
    "df1['Gender'] = pd.to_numeric(df1['Gender'])"
   ]
  },
  {
   "cell_type": "markdown",
   "id": "7807a3da",
   "metadata": {},
   "source": [
    "### View Datatypes"
   ]
  },
  {
   "cell_type": "code",
   "execution_count": 466,
   "id": "5ffc1ecf",
   "metadata": {},
   "outputs": [
    {
     "data": {
      "text/html": [
       "<div>\n",
       "<style scoped>\n",
       "    .dataframe tbody tr th:only-of-type {\n",
       "        vertical-align: middle;\n",
       "    }\n",
       "\n",
       "    .dataframe tbody tr th {\n",
       "        vertical-align: top;\n",
       "    }\n",
       "\n",
       "    .dataframe thead th {\n",
       "        text-align: right;\n",
       "    }\n",
       "</style>\n",
       "<table border=\"1\" class=\"dataframe\">\n",
       "  <thead>\n",
       "    <tr style=\"text-align: right;\">\n",
       "      <th></th>\n",
       "      <th>yummy</th>\n",
       "      <th>convenient</th>\n",
       "      <th>spicy</th>\n",
       "      <th>fattening</th>\n",
       "      <th>greasy</th>\n",
       "      <th>fast</th>\n",
       "      <th>cheap</th>\n",
       "      <th>tasty</th>\n",
       "      <th>expensive</th>\n",
       "      <th>healthy</th>\n",
       "      <th>disgusting</th>\n",
       "      <th>Like</th>\n",
       "      <th>Age</th>\n",
       "      <th>Gender</th>\n",
       "      <th>Every three months</th>\n",
       "      <th>More than once a week</th>\n",
       "      <th>Never</th>\n",
       "      <th>Once a month</th>\n",
       "      <th>Once a week</th>\n",
       "      <th>Once a year</th>\n",
       "    </tr>\n",
       "  </thead>\n",
       "  <tbody>\n",
       "    <tr>\n",
       "      <th>0</th>\n",
       "      <td>0</td>\n",
       "      <td>1</td>\n",
       "      <td>0</td>\n",
       "      <td>1</td>\n",
       "      <td>0</td>\n",
       "      <td>1</td>\n",
       "      <td>1</td>\n",
       "      <td>0</td>\n",
       "      <td>1</td>\n",
       "      <td>0</td>\n",
       "      <td>0</td>\n",
       "      <td>6</td>\n",
       "      <td>61</td>\n",
       "      <td>1</td>\n",
       "      <td>1.0</td>\n",
       "      <td>0.0</td>\n",
       "      <td>0.0</td>\n",
       "      <td>0.0</td>\n",
       "      <td>0.0</td>\n",
       "      <td>0.0</td>\n",
       "    </tr>\n",
       "    <tr>\n",
       "      <th>1</th>\n",
       "      <td>1</td>\n",
       "      <td>1</td>\n",
       "      <td>0</td>\n",
       "      <td>1</td>\n",
       "      <td>1</td>\n",
       "      <td>1</td>\n",
       "      <td>1</td>\n",
       "      <td>1</td>\n",
       "      <td>1</td>\n",
       "      <td>0</td>\n",
       "      <td>0</td>\n",
       "      <td>1</td>\n",
       "      <td>51</td>\n",
       "      <td>1</td>\n",
       "      <td>1.0</td>\n",
       "      <td>0.0</td>\n",
       "      <td>0.0</td>\n",
       "      <td>0.0</td>\n",
       "      <td>0.0</td>\n",
       "      <td>0.0</td>\n",
       "    </tr>\n",
       "    <tr>\n",
       "      <th>2</th>\n",
       "      <td>0</td>\n",
       "      <td>1</td>\n",
       "      <td>1</td>\n",
       "      <td>1</td>\n",
       "      <td>1</td>\n",
       "      <td>1</td>\n",
       "      <td>0</td>\n",
       "      <td>1</td>\n",
       "      <td>1</td>\n",
       "      <td>1</td>\n",
       "      <td>0</td>\n",
       "      <td>0</td>\n",
       "      <td>62</td>\n",
       "      <td>1</td>\n",
       "      <td>1.0</td>\n",
       "      <td>0.0</td>\n",
       "      <td>0.0</td>\n",
       "      <td>0.0</td>\n",
       "      <td>0.0</td>\n",
       "      <td>0.0</td>\n",
       "    </tr>\n",
       "    <tr>\n",
       "      <th>3</th>\n",
       "      <td>1</td>\n",
       "      <td>1</td>\n",
       "      <td>0</td>\n",
       "      <td>1</td>\n",
       "      <td>1</td>\n",
       "      <td>1</td>\n",
       "      <td>1</td>\n",
       "      <td>1</td>\n",
       "      <td>0</td>\n",
       "      <td>0</td>\n",
       "      <td>1</td>\n",
       "      <td>3</td>\n",
       "      <td>69</td>\n",
       "      <td>1</td>\n",
       "      <td>0.0</td>\n",
       "      <td>0.0</td>\n",
       "      <td>0.0</td>\n",
       "      <td>0.0</td>\n",
       "      <td>1.0</td>\n",
       "      <td>0.0</td>\n",
       "    </tr>\n",
       "    <tr>\n",
       "      <th>4</th>\n",
       "      <td>0</td>\n",
       "      <td>1</td>\n",
       "      <td>0</td>\n",
       "      <td>1</td>\n",
       "      <td>1</td>\n",
       "      <td>1</td>\n",
       "      <td>1</td>\n",
       "      <td>0</td>\n",
       "      <td>0</td>\n",
       "      <td>1</td>\n",
       "      <td>0</td>\n",
       "      <td>1</td>\n",
       "      <td>49</td>\n",
       "      <td>0</td>\n",
       "      <td>0.0</td>\n",
       "      <td>0.0</td>\n",
       "      <td>0.0</td>\n",
       "      <td>1.0</td>\n",
       "      <td>0.0</td>\n",
       "      <td>0.0</td>\n",
       "    </tr>\n",
       "  </tbody>\n",
       "</table>\n",
       "</div>"
      ],
      "text/plain": [
       "   yummy  convenient  spicy  fattening  greasy  fast  cheap  tasty  expensive  \\\n",
       "0      0           1      0          1       0     1      1      0          1   \n",
       "1      1           1      0          1       1     1      1      1          1   \n",
       "2      0           1      1          1       1     1      0      1          1   \n",
       "3      1           1      0          1       1     1      1      1          0   \n",
       "4      0           1      0          1       1     1      1      0          0   \n",
       "\n",
       "   healthy  disgusting  Like  Age  Gender  Every three months  \\\n",
       "0        0           0     6   61       1                 1.0   \n",
       "1        0           0     1   51       1                 1.0   \n",
       "2        1           0     0   62       1                 1.0   \n",
       "3        0           1     3   69       1                 0.0   \n",
       "4        1           0     1   49       0                 0.0   \n",
       "\n",
       "   More than once a week  Never  Once a month  Once a week  Once a year  \n",
       "0                    0.0    0.0           0.0          0.0          0.0  \n",
       "1                    0.0    0.0           0.0          0.0          0.0  \n",
       "2                    0.0    0.0           0.0          0.0          0.0  \n",
       "3                    0.0    0.0           0.0          1.0          0.0  \n",
       "4                    0.0    0.0           1.0          0.0          0.0  "
      ]
     },
     "execution_count": 466,
     "metadata": {},
     "output_type": "execute_result"
    }
   ],
   "source": [
    "df1.head()"
   ]
  },
  {
   "cell_type": "code",
   "execution_count": 467,
   "id": "d7809019",
   "metadata": {},
   "outputs": [
    {
     "name": "stdout",
     "output_type": "stream",
     "text": [
      "<class 'pandas.core.frame.DataFrame'>\n",
      "RangeIndex: 1453 entries, 0 to 1452\n",
      "Data columns (total 20 columns):\n",
      " #   Column                 Non-Null Count  Dtype  \n",
      "---  ------                 --------------  -----  \n",
      " 0   yummy                  1453 non-null   int64  \n",
      " 1   convenient             1453 non-null   int64  \n",
      " 2   spicy                  1453 non-null   int64  \n",
      " 3   fattening              1453 non-null   int64  \n",
      " 4   greasy                 1453 non-null   int64  \n",
      " 5   fast                   1453 non-null   int64  \n",
      " 6   cheap                  1453 non-null   int64  \n",
      " 7   tasty                  1453 non-null   int64  \n",
      " 8   expensive              1453 non-null   int64  \n",
      " 9   healthy                1453 non-null   int64  \n",
      " 10  disgusting             1453 non-null   int64  \n",
      " 11  Like                   1453 non-null   int32  \n",
      " 12  Age                    1453 non-null   int64  \n",
      " 13  Gender                 1453 non-null   int64  \n",
      " 14  Every three months     1453 non-null   float64\n",
      " 15  More than once a week  1453 non-null   float64\n",
      " 16  Never                  1453 non-null   float64\n",
      " 17  Once a month           1453 non-null   float64\n",
      " 18  Once a week            1453 non-null   float64\n",
      " 19  Once a year            1453 non-null   float64\n",
      "dtypes: float64(6), int32(1), int64(13)\n",
      "memory usage: 221.5 KB\n"
     ]
    }
   ],
   "source": [
    "df1.info()"
   ]
  },
  {
   "cell_type": "markdown",
   "id": "4a2110bd",
   "metadata": {},
   "source": [
    "## Exploratory Data Analysis"
   ]
  },
  {
   "cell_type": "markdown",
   "id": "f5b97770",
   "metadata": {},
   "source": [
    "### Yummy"
   ]
  },
  {
   "cell_type": "code",
   "execution_count": 468,
   "id": "5740abb7",
   "metadata": {},
   "outputs": [
    {
     "data": {
      "text/plain": [
       "Text(0.5, 1.0, 'Yummy Review')"
      ]
     },
     "execution_count": 468,
     "metadata": {},
     "output_type": "execute_result"
    },
    {
     "data": {
      "image/png": "[encoded data removed]",
      "text/plain": [
       "<Figure size 216x144 with 1 Axes>"
      ]
     },
     "metadata": {
      "needs_background": "light"
     },
     "output_type": "display_data"
    }
   ],
   "source": [
    "df1['yummy'].value_counts(normalize=True).plot.bar(figsize=(3,2))\n",
    "plt.xticks(rotation = 0)\n",
    "plt.title(\"Yummy Review\")"
   ]
  },
  {
   "cell_type": "markdown",
   "id": "4b8ec55e",
   "metadata": {},
   "source": [
    "### Convenient"
   ]
  },
  {
   "cell_type": "code",
   "execution_count": 469,
   "id": "0ce58ecc",
   "metadata": {},
   "outputs": [
    {
     "data": {
      "text/plain": [
       "Text(0.5, 1.0, 'Convenient Review')"
      ]
     },
     "execution_count": 469,
     "metadata": {},
     "output_type": "execute_result"
    },
    {
     "data": {
      "image/png": "[encoded data removed]",
      "text/plain": [
       "<Figure size 216x144 with 1 Axes>"
      ]
     },
     "metadata": {
      "needs_background": "light"
     },
     "output_type": "display_data"
    }
   ],
   "source": [
    "df1['convenient'].value_counts(normalize=True).plot.bar(figsize=(3,2))\n",
    "plt.xticks(rotation = 0)\n",
    "plt.title(\"Convenient Review\")"
   ]
  },
  {
   "cell_type": "markdown",
   "id": "6f8eda9e",
   "metadata": {},
   "source": [
    "### Spicy"
   ]
  },
  {
   "cell_type": "code",
   "execution_count": 470,
   "id": "1e24785e",
   "metadata": {},
   "outputs": [
    {
     "data": {
      "text/plain": [
       "Text(0.5, 1.0, 'Spicy Review')"
      ]
     },
     "execution_count": 470,
     "metadata": {},
     "output_type": "execute_result"
    },
    {
     "data": {
      "image/png": "[encoded data removed]",
      "text/plain": [
       "<Figure size 216x144 with 1 Axes>"
      ]
     },
     "metadata": {
      "needs_background": "light"
     },
     "output_type": "display_data"
    }
   ],
   "source": [
    "df1['spicy'].value_counts(normalize=True).plot.bar(figsize=(3,2))\n",
    "plt.xticks(rotation = 0)\n",
    "plt.title(\"Spicy Review\")"
   ]
  },
  {
   "cell_type": "markdown",
   "id": "b2fbe074",
   "metadata": {},
   "source": [
    "### Fattening"
   ]
  },
  {
   "cell_type": "code",
   "execution_count": 471,
   "id": "c507a7ef",
   "metadata": {},
   "outputs": [
    {
     "data": {
      "text/plain": [
       "Text(0.5, 1.0, 'Fattening Review')"
      ]
     },
     "execution_count": 471,
     "metadata": {},
     "output_type": "execute_result"
    },
    {
     "data": {
      "image/png": "[encoded data removed]",
      "text/plain": [
       "<Figure size 216x144 with 1 Axes>"
      ]
     },
     "metadata": {
      "needs_background": "light"
     },
     "output_type": "display_data"
    }
   ],
   "source": [
    "df1['fattening'].value_counts(normalize=True).plot.bar(figsize=(3,2))\n",
    "plt.xticks(rotation = 0)\n",
    "plt.title(\"Fattening Review\")"
   ]
  },
  {
   "cell_type": "markdown",
   "id": "932fb0e2",
   "metadata": {},
   "source": [
    "### Greasy"
   ]
  },
  {
   "cell_type": "code",
   "execution_count": 472,
   "id": "df3ed7f4",
   "metadata": {},
   "outputs": [
    {
     "data": {
      "text/plain": [
       "Text(0.5, 1.0, 'Greasy Review')"
      ]
     },
     "execution_count": 472,
     "metadata": {},
     "output_type": "execute_result"
    },
    {
     "data": {
      "image/png": "[encoded data removed]",
      "text/plain": [
       "<Figure size 216x144 with 1 Axes>"
      ]
     },
     "metadata": {
      "needs_background": "light"
     },
     "output_type": "display_data"
    }
   ],
   "source": [
    "df1['greasy'].value_counts(normalize=True).plot.bar(figsize=(3,2))\n",
    "plt.xticks(rotation = 0)\n",
    "plt.title(\"Greasy Review\")"
   ]
  },
  {
   "cell_type": "markdown",
   "id": "8c3c2905",
   "metadata": {},
   "source": [
    "### Fast"
   ]
  },
  {
   "cell_type": "code",
   "execution_count": 473,
   "id": "78b91746",
   "metadata": {},
   "outputs": [
    {
     "data": {
      "text/plain": [
       "Text(0.5, 1.0, 'Delivery Speed Review')"
      ]
     },
     "execution_count": 473,
     "metadata": {},
     "output_type": "execute_result"
    },
    {
     "data": {
      "image/png": "[encoded data removed]",
      "text/plain": [
       "<Figure size 216x144 with 1 Axes>"
      ]
     },
     "metadata": {
      "needs_background": "light"
     },
     "output_type": "display_data"
    }
   ],
   "source": [
    "df1['fast'].value_counts(normalize=True).plot.bar(figsize=(3,2))\n",
    "plt.xticks(rotation = 0)\n",
    "plt.title(\"Delivery Speed Review\")"
   ]
  },
  {
   "cell_type": "markdown",
   "id": "8a91f023",
   "metadata": {},
   "source": [
    "### Cheap"
   ]
  },
  {
   "cell_type": "code",
   "execution_count": 474,
   "id": "c10cb43b",
   "metadata": {},
   "outputs": [
    {
     "data": {
      "text/plain": [
       "Text(0.5, 1.0, 'Cheap Review')"
      ]
     },
     "execution_count": 474,
     "metadata": {},
     "output_type": "execute_result"
    },
    {
     "data": {
      "image/png": "[encoded data removed]",
      "text/plain": [
       "<Figure size 216x144 with 1 Axes>"
      ]
     },
     "metadata": {
      "needs_background": "light"
     },
     "output_type": "display_data"
    }
   ],
   "source": [
    "df1['cheap'].value_counts(normalize=True).plot.bar(figsize=(3,2))\n",
    "plt.xticks(rotation = 0)\n",
    "plt.title(\"Cheap Review\")"
   ]
  },
  {
   "cell_type": "markdown",
   "id": "ae700ec5",
   "metadata": {},
   "source": [
    "### Tasty"
   ]
  },
  {
   "cell_type": "code",
   "execution_count": 475,
   "id": "c9ba44ac",
   "metadata": {},
   "outputs": [
    {
     "data": {
      "text/plain": [
       "Text(0.5, 1.0, 'Taste Review')"
      ]
     },
     "execution_count": 475,
     "metadata": {},
     "output_type": "execute_result"
    },
    {
     "data": {
      "image/png": "[encoded data removed]",
      "text/plain": [
       "<Figure size 216x144 with 1 Axes>"
      ]
     },
     "metadata": {
      "needs_background": "light"
     },
     "output_type": "display_data"
    }
   ],
   "source": [
    "df1['tasty'].value_counts(normalize=True).plot.bar(figsize=(3,2))\n",
    "plt.xticks(rotation = 0)\n",
    "plt.title(\"Taste Review\")"
   ]
  },
  {
   "cell_type": "markdown",
   "id": "0fc18fbf",
   "metadata": {},
   "source": [
    "### Expensive"
   ]
  },
  {
   "cell_type": "code",
   "execution_count": 476,
   "id": "502f480e",
   "metadata": {},
   "outputs": [
    {
     "data": {
      "text/plain": [
       "Text(0.5, 1.0, 'Cost Review')"
      ]
     },
     "execution_count": 476,
     "metadata": {},
     "output_type": "execute_result"
    },
    {
     "data": {
      "image/png": "[encoded data removed]",
      "text/plain": [
       "<Figure size 216x144 with 1 Axes>"
      ]
     },
     "metadata": {
      "needs_background": "light"
     },
     "output_type": "display_data"
    }
   ],
   "source": [
    "df1['expensive'].value_counts(normalize=True).plot.bar(figsize=(3,2))\n",
    "plt.xticks(rotation = 0)\n",
    "plt.title(\"Cost Review\")"
   ]
  },
  {
   "cell_type": "markdown",
   "id": "2054c88c",
   "metadata": {},
   "source": [
    "### Healthy"
   ]
  },
  {
   "cell_type": "code",
   "execution_count": 477,
   "id": "bf56dac5",
   "metadata": {},
   "outputs": [
    {
     "data": {
      "text/plain": [
       "Text(0.5, 1.0, 'Health concerned Review')"
      ]
     },
     "execution_count": 477,
     "metadata": {},
     "output_type": "execute_result"
    },
    {
     "data": {
      "image/png": "[encoded data removed]",
      "text/plain": [
       "<Figure size 216x144 with 1 Axes>"
      ]
     },
     "metadata": {
      "needs_background": "light"
     },
     "output_type": "display_data"
    }
   ],
   "source": [
    "df1['healthy'].value_counts(normalize=True).plot.bar(figsize=(3,2))\n",
    "plt.xticks(rotation = 0)\n",
    "plt.title(\"Health concerned Review\")"
   ]
  },
  {
   "cell_type": "markdown",
   "id": "93accc11",
   "metadata": {},
   "source": [
    "### Like"
   ]
  },
  {
   "cell_type": "code",
   "execution_count": 478,
   "id": "d1146f2f",
   "metadata": {},
   "outputs": [
    {
     "data": {
      "text/plain": [
       "Text(0.5, 1.0, 'Liking Review')"
      ]
     },
     "execution_count": 478,
     "metadata": {},
     "output_type": "execute_result"
    },
    {
     "data": {
      "image/png": "[encoded data removed]",
      "text/plain": [
       "<Figure size 216x144 with 1 Axes>"
      ]
     },
     "metadata": {
      "needs_background": "light"
     },
     "output_type": "display_data"
    }
   ],
   "source": [
    "df['Like'] = df[\"Like\"].replace({\"I love it!+5\":\"+5\", \"I hate it!-5\":\"-5\"})\n",
    "df['Like'].value_counts()\n",
    "\n",
    "df['Like'].value_counts(normalize=True).plot.bar(figsize=(3,2))\n",
    "plt.xticks(rotation = 0)\n",
    "plt.title(\"Liking Review\")"
   ]
  },
  {
   "cell_type": "markdown",
   "id": "aa178ee4",
   "metadata": {},
   "source": [
    "### Age"
   ]
  },
  {
   "cell_type": "code",
   "execution_count": 479,
   "id": "abbde634",
   "metadata": {},
   "outputs": [
    {
     "data": {
      "text/plain": [
       "count    1453.000000\n",
       "mean       44.604955\n",
       "std        14.221178\n",
       "min        18.000000\n",
       "25%        33.000000\n",
       "50%        45.000000\n",
       "75%        57.000000\n",
       "max        71.000000\n",
       "Name: Age, dtype: float64"
      ]
     },
     "execution_count": 479,
     "metadata": {},
     "output_type": "execute_result"
    }
   ],
   "source": [
    "df1['Age'].describe()"
   ]
  },
  {
   "cell_type": "code",
   "execution_count": 480,
   "id": "9bd054b1",
   "metadata": {},
   "outputs": [
    {
     "data": {
      "text/plain": [
       "Text(0.5, 1.0, 'Age-wise analysis')"
      ]
     },
     "execution_count": 480,
     "metadata": {},
     "output_type": "execute_result"
    },
    {
     "data": {
      "image/png": "[encoded data removed]",
      "text/plain": [
       "<Figure size 432x288 with 1 Axes>"
      ]
     },
     "metadata": {
      "needs_background": "light"
     },
     "output_type": "display_data"
    }
   ],
   "source": [
    "sb.histplot(data = df1, x = \"Age\", bins = list(range(15,75,5)))\n",
    "plt.title(\"Age-wise analysis\")"
   ]
  },
  {
   "cell_type": "markdown",
   "id": "57676758",
   "metadata": {},
   "source": [
    "### Visit Frequency"
   ]
  },
  {
   "cell_type": "code",
   "execution_count": 481,
   "id": "b967a04c",
   "metadata": {},
   "outputs": [
    {
     "data": {
      "text/plain": [
       "Text(0.5, 1.0, 'Frequency of visiting [proportion]')"
      ]
     },
     "execution_count": 481,
     "metadata": {},
     "output_type": "execute_result"
    },
    {
     "data": {
      "image/png": "[encoded data removed]",
      "text/plain": [
       "<Figure size 576x432 with 1 Axes>"
      ]
     },
     "metadata": {
      "needs_background": "light"
     },
     "output_type": "display_data"
    }
   ],
   "source": [
    "df['VisitFrequency'].value_counts(normalize=True).plot.bar(figsize=(8,6))\n",
    "plt.xticks(rotation = 45)\n",
    "plt.title(\"Frequency of visiting [proportion]\")"
   ]
  },
  {
   "cell_type": "markdown",
   "id": "f3a3e96b",
   "metadata": {},
   "source": [
    "### Gender"
   ]
  },
  {
   "cell_type": "code",
   "execution_count": 482,
   "id": "91ceec03",
   "metadata": {},
   "outputs": [
    {
     "data": {
      "text/plain": [
       "Text(0.5, 1.0, 'Gender-wise analysis')"
      ]
     },
     "execution_count": 482,
     "metadata": {},
     "output_type": "execute_result"
    },
    {
     "data": {
      "image/png": "[encoded data removed]",
      "text/plain": [
       "<Figure size 216x144 with 1 Axes>"
      ]
     },
     "metadata": {
      "needs_background": "light"
     },
     "output_type": "display_data"
    }
   ],
   "source": [
    "df1['Gender'].value_counts(normalize=True).plot.bar(figsize=(3,2))\n",
    "plt.xticks(rotation = 0)\n",
    "plt.title(\"Gender-wise analysis\")"
   ]
  },
  {
   "cell_type": "markdown",
   "id": "5c4327a5",
   "metadata": {},
   "source": [
    "### As per the univarient EDA, We can conclude that food is convenient, not more spicy, fattening and fast for almost all customers. "
   ]
  },
  {
   "cell_type": "markdown",
   "id": "b90986cb",
   "metadata": {},
   "source": [
    "## Principal Component Analysis"
   ]
  },
  {
   "cell_type": "code",
   "execution_count": 483,
   "id": "a1b74d26",
   "metadata": {},
   "outputs": [
    {
     "data": {
      "text/html": [
       "<div>\n",
       "<style scoped>\n",
       "    .dataframe tbody tr th:only-of-type {\n",
       "        vertical-align: middle;\n",
       "    }\n",
       "\n",
       "    .dataframe tbody tr th {\n",
       "        vertical-align: top;\n",
       "    }\n",
       "\n",
       "    .dataframe thead th {\n",
       "        text-align: right;\n",
       "    }\n",
       "</style>\n",
       "<table border=\"1\" class=\"dataframe\">\n",
       "  <thead>\n",
       "    <tr style=\"text-align: right;\">\n",
       "      <th></th>\n",
       "      <th>yummy</th>\n",
       "      <th>convenient</th>\n",
       "      <th>spicy</th>\n",
       "      <th>fattening</th>\n",
       "      <th>greasy</th>\n",
       "      <th>fast</th>\n",
       "      <th>cheap</th>\n",
       "      <th>tasty</th>\n",
       "      <th>expensive</th>\n",
       "      <th>healthy</th>\n",
       "      <th>disgusting</th>\n",
       "      <th>Like</th>\n",
       "      <th>Age</th>\n",
       "      <th>Gender</th>\n",
       "      <th>Every three months</th>\n",
       "      <th>More than once a week</th>\n",
       "      <th>Never</th>\n",
       "      <th>Once a month</th>\n",
       "      <th>Once a week</th>\n",
       "      <th>Once a year</th>\n",
       "    </tr>\n",
       "  </thead>\n",
       "  <tbody>\n",
       "    <tr>\n",
       "      <th>0</th>\n",
       "      <td>-1.111479</td>\n",
       "      <td>0.318735</td>\n",
       "      <td>-0.321349</td>\n",
       "      <td>0.391375</td>\n",
       "      <td>-1.054476</td>\n",
       "      <td>0.332951</td>\n",
       "      <td>0.818605</td>\n",
       "      <td>-1.345528</td>\n",
       "      <td>1.339489</td>\n",
       "      <td>-0.498279</td>\n",
       "      <td>-0.566488</td>\n",
       "      <td>0.395759</td>\n",
       "      <td>1.153258</td>\n",
       "      <td>0.918645</td>\n",
       "      <td>1.802370</td>\n",
       "      <td>-0.196466</td>\n",
       "      <td>-0.314789</td>\n",
       "      <td>-0.657981</td>\n",
       "      <td>-0.439248</td>\n",
       "      <td>-0.458067</td>\n",
       "    </tr>\n",
       "    <tr>\n",
       "      <th>1</th>\n",
       "      <td>0.899702</td>\n",
       "      <td>0.318735</td>\n",
       "      <td>-0.321349</td>\n",
       "      <td>0.391375</td>\n",
       "      <td>0.948339</td>\n",
       "      <td>0.332951</td>\n",
       "      <td>0.818605</td>\n",
       "      <td>0.743203</td>\n",
       "      <td>1.339489</td>\n",
       "      <td>-0.498279</td>\n",
       "      <td>-0.566488</td>\n",
       "      <td>-1.055624</td>\n",
       "      <td>0.449839</td>\n",
       "      <td>0.918645</td>\n",
       "      <td>1.802370</td>\n",
       "      <td>-0.196466</td>\n",
       "      <td>-0.314789</td>\n",
       "      <td>-0.657981</td>\n",
       "      <td>-0.439248</td>\n",
       "      <td>-0.458067</td>\n",
       "    </tr>\n",
       "    <tr>\n",
       "      <th>2</th>\n",
       "      <td>-1.111479</td>\n",
       "      <td>0.318735</td>\n",
       "      <td>3.111884</td>\n",
       "      <td>0.391375</td>\n",
       "      <td>0.948339</td>\n",
       "      <td>0.332951</td>\n",
       "      <td>-1.221590</td>\n",
       "      <td>0.743203</td>\n",
       "      <td>1.339489</td>\n",
       "      <td>2.006908</td>\n",
       "      <td>-0.566488</td>\n",
       "      <td>-1.345901</td>\n",
       "      <td>1.223600</td>\n",
       "      <td>0.918645</td>\n",
       "      <td>1.802370</td>\n",
       "      <td>-0.196466</td>\n",
       "      <td>-0.314789</td>\n",
       "      <td>-0.657981</td>\n",
       "      <td>-0.439248</td>\n",
       "      <td>-0.458067</td>\n",
       "    </tr>\n",
       "    <tr>\n",
       "      <th>3</th>\n",
       "      <td>0.899702</td>\n",
       "      <td>0.318735</td>\n",
       "      <td>-0.321349</td>\n",
       "      <td>0.391375</td>\n",
       "      <td>0.948339</td>\n",
       "      <td>0.332951</td>\n",
       "      <td>0.818605</td>\n",
       "      <td>0.743203</td>\n",
       "      <td>-0.746553</td>\n",
       "      <td>-0.498279</td>\n",
       "      <td>1.765261</td>\n",
       "      <td>-0.475071</td>\n",
       "      <td>1.715993</td>\n",
       "      <td>0.918645</td>\n",
       "      <td>-0.554825</td>\n",
       "      <td>-0.196466</td>\n",
       "      <td>-0.314789</td>\n",
       "      <td>-0.657981</td>\n",
       "      <td>2.276616</td>\n",
       "      <td>-0.458067</td>\n",
       "    </tr>\n",
       "    <tr>\n",
       "      <th>4</th>\n",
       "      <td>-1.111479</td>\n",
       "      <td>0.318735</td>\n",
       "      <td>-0.321349</td>\n",
       "      <td>0.391375</td>\n",
       "      <td>0.948339</td>\n",
       "      <td>0.332951</td>\n",
       "      <td>0.818605</td>\n",
       "      <td>-1.345528</td>\n",
       "      <td>-0.746553</td>\n",
       "      <td>2.006908</td>\n",
       "      <td>-0.566488</td>\n",
       "      <td>-1.055624</td>\n",
       "      <td>0.309156</td>\n",
       "      <td>-1.088560</td>\n",
       "      <td>-0.554825</td>\n",
       "      <td>-0.196466</td>\n",
       "      <td>-0.314789</td>\n",
       "      <td>1.519801</td>\n",
       "      <td>-0.439248</td>\n",
       "      <td>-0.458067</td>\n",
       "    </tr>\n",
       "    <tr>\n",
       "      <th>...</th>\n",
       "      <td>...</td>\n",
       "      <td>...</td>\n",
       "      <td>...</td>\n",
       "      <td>...</td>\n",
       "      <td>...</td>\n",
       "      <td>...</td>\n",
       "      <td>...</td>\n",
       "      <td>...</td>\n",
       "      <td>...</td>\n",
       "      <td>...</td>\n",
       "      <td>...</td>\n",
       "      <td>...</td>\n",
       "      <td>...</td>\n",
       "      <td>...</td>\n",
       "      <td>...</td>\n",
       "      <td>...</td>\n",
       "      <td>...</td>\n",
       "      <td>...</td>\n",
       "      <td>...</td>\n",
       "      <td>...</td>\n",
       "    </tr>\n",
       "    <tr>\n",
       "      <th>1448</th>\n",
       "      <td>-1.111479</td>\n",
       "      <td>0.318735</td>\n",
       "      <td>-0.321349</td>\n",
       "      <td>0.391375</td>\n",
       "      <td>0.948339</td>\n",
       "      <td>-3.003446</td>\n",
       "      <td>-1.221590</td>\n",
       "      <td>-1.345528</td>\n",
       "      <td>1.339489</td>\n",
       "      <td>-0.498279</td>\n",
       "      <td>1.765261</td>\n",
       "      <td>1.266589</td>\n",
       "      <td>0.168472</td>\n",
       "      <td>-1.088560</td>\n",
       "      <td>-0.554825</td>\n",
       "      <td>-0.196466</td>\n",
       "      <td>-0.314789</td>\n",
       "      <td>-0.657981</td>\n",
       "      <td>-0.439248</td>\n",
       "      <td>2.183088</td>\n",
       "    </tr>\n",
       "    <tr>\n",
       "      <th>1449</th>\n",
       "      <td>0.899702</td>\n",
       "      <td>0.318735</td>\n",
       "      <td>-0.321349</td>\n",
       "      <td>0.391375</td>\n",
       "      <td>-1.054476</td>\n",
       "      <td>-3.003446</td>\n",
       "      <td>0.818605</td>\n",
       "      <td>0.743203</td>\n",
       "      <td>-0.746553</td>\n",
       "      <td>2.006908</td>\n",
       "      <td>-0.566488</td>\n",
       "      <td>-1.055624</td>\n",
       "      <td>-0.605289</td>\n",
       "      <td>0.918645</td>\n",
       "      <td>-0.554825</td>\n",
       "      <td>-0.196466</td>\n",
       "      <td>-0.314789</td>\n",
       "      <td>-0.657981</td>\n",
       "      <td>2.276616</td>\n",
       "      <td>-0.458067</td>\n",
       "    </tr>\n",
       "    <tr>\n",
       "      <th>1450</th>\n",
       "      <td>0.899702</td>\n",
       "      <td>0.318735</td>\n",
       "      <td>-0.321349</td>\n",
       "      <td>0.391375</td>\n",
       "      <td>-1.054476</td>\n",
       "      <td>0.332951</td>\n",
       "      <td>-1.221590</td>\n",
       "      <td>0.743203</td>\n",
       "      <td>1.339489</td>\n",
       "      <td>-0.498279</td>\n",
       "      <td>-0.566488</td>\n",
       "      <td>-0.765348</td>\n",
       "      <td>0.520181</td>\n",
       "      <td>0.918645</td>\n",
       "      <td>-0.554825</td>\n",
       "      <td>-0.196466</td>\n",
       "      <td>-0.314789</td>\n",
       "      <td>1.519801</td>\n",
       "      <td>-0.439248</td>\n",
       "      <td>-0.458067</td>\n",
       "    </tr>\n",
       "    <tr>\n",
       "      <th>1451</th>\n",
       "      <td>0.899702</td>\n",
       "      <td>0.318735</td>\n",
       "      <td>-0.321349</td>\n",
       "      <td>-2.555092</td>\n",
       "      <td>-1.054476</td>\n",
       "      <td>0.332951</td>\n",
       "      <td>0.818605</td>\n",
       "      <td>0.743203</td>\n",
       "      <td>-0.746553</td>\n",
       "      <td>2.006908</td>\n",
       "      <td>-0.566488</td>\n",
       "      <td>-0.475071</td>\n",
       "      <td>-0.253579</td>\n",
       "      <td>-1.088560</td>\n",
       "      <td>1.802370</td>\n",
       "      <td>-0.196466</td>\n",
       "      <td>-0.314789</td>\n",
       "      <td>-0.657981</td>\n",
       "      <td>-0.439248</td>\n",
       "      <td>-0.458067</td>\n",
       "    </tr>\n",
       "    <tr>\n",
       "      <th>1452</th>\n",
       "      <td>-1.111479</td>\n",
       "      <td>0.318735</td>\n",
       "      <td>-0.321349</td>\n",
       "      <td>0.391375</td>\n",
       "      <td>0.948339</td>\n",
       "      <td>-3.003446</td>\n",
       "      <td>-1.221590</td>\n",
       "      <td>-1.345528</td>\n",
       "      <td>1.339489</td>\n",
       "      <td>-0.498279</td>\n",
       "      <td>1.765261</td>\n",
       "      <td>0.395759</td>\n",
       "      <td>-1.027340</td>\n",
       "      <td>-1.088560</td>\n",
       "      <td>1.802370</td>\n",
       "      <td>-0.196466</td>\n",
       "      <td>-0.314789</td>\n",
       "      <td>-0.657981</td>\n",
       "      <td>-0.439248</td>\n",
       "      <td>-0.458067</td>\n",
       "    </tr>\n",
       "  </tbody>\n",
       "</table>\n",
       "<p>1453 rows × 20 columns</p>\n",
       "</div>"
      ],
      "text/plain": [
       "         yummy  convenient     spicy  fattening    greasy      fast     cheap  \\\n",
       "0    -1.111479    0.318735 -0.321349   0.391375 -1.054476  0.332951  0.818605   \n",
       "1     0.899702    0.318735 -0.321349   0.391375  0.948339  0.332951  0.818605   \n",
       "2    -1.111479    0.318735  3.111884   0.391375  0.948339  0.332951 -1.221590   \n",
       "3     0.899702    0.318735 -0.321349   0.391375  0.948339  0.332951  0.818605   \n",
       "4    -1.111479    0.318735 -0.321349   0.391375  0.948339  0.332951  0.818605   \n",
       "...        ...         ...       ...        ...       ...       ...       ...   \n",
       "1448 -1.111479    0.318735 -0.321349   0.391375  0.948339 -3.003446 -1.221590   \n",
       "1449  0.899702    0.318735 -0.321349   0.391375 -1.054476 -3.003446  0.818605   \n",
       "1450  0.899702    0.318735 -0.321349   0.391375 -1.054476  0.332951 -1.221590   \n",
       "1451  0.899702    0.318735 -0.321349  -2.555092 -1.054476  0.332951  0.818605   \n",
       "1452 -1.111479    0.318735 -0.321349   0.391375  0.948339 -3.003446 -1.221590   \n",
       "\n",
       "         tasty  expensive   healthy  disgusting      Like       Age    Gender  \\\n",
       "0    -1.345528   1.339489 -0.498279   -0.566488  0.395759  1.153258  0.918645   \n",
       "1     0.743203   1.339489 -0.498279   -0.566488 -1.055624  0.449839  0.918645   \n",
       "2     0.743203   1.339489  2.006908   -0.566488 -1.345901  1.223600  0.918645   \n",
       "3     0.743203  -0.746553 -0.498279    1.765261 -0.475071  1.715993  0.918645   \n",
       "4    -1.345528  -0.746553  2.006908   -0.566488 -1.055624  0.309156 -1.088560   \n",
       "...        ...        ...       ...         ...       ...       ...       ...   \n",
       "1448 -1.345528   1.339489 -0.498279    1.765261  1.266589  0.168472 -1.088560   \n",
       "1449  0.743203  -0.746553  2.006908   -0.566488 -1.055624 -0.605289  0.918645   \n",
       "1450  0.743203   1.339489 -0.498279   -0.566488 -0.765348  0.520181  0.918645   \n",
       "1451  0.743203  -0.746553  2.006908   -0.566488 -0.475071 -0.253579 -1.088560   \n",
       "1452 -1.345528   1.339489 -0.498279    1.765261  0.395759 -1.027340 -1.088560   \n",
       "\n",
       "      Every three months  More than once a week     Never  Once a month  \\\n",
       "0               1.802370              -0.196466 -0.314789     -0.657981   \n",
       "1               1.802370              -0.196466 -0.314789     -0.657981   \n",
       "2               1.802370              -0.196466 -0.314789     -0.657981   \n",
       "3              -0.554825              -0.196466 -0.314789     -0.657981   \n",
       "4              -0.554825              -0.196466 -0.314789      1.519801   \n",
       "...                  ...                    ...       ...           ...   \n",
       "1448           -0.554825              -0.196466 -0.314789     -0.657981   \n",
       "1449           -0.554825              -0.196466 -0.314789     -0.657981   \n",
       "1450           -0.554825              -0.196466 -0.314789      1.519801   \n",
       "1451            1.802370              -0.196466 -0.314789     -0.657981   \n",
       "1452            1.802370              -0.196466 -0.314789     -0.657981   \n",
       "\n",
       "      Once a week  Once a year  \n",
       "0       -0.439248    -0.458067  \n",
       "1       -0.439248    -0.458067  \n",
       "2       -0.439248    -0.458067  \n",
       "3        2.276616    -0.458067  \n",
       "4       -0.439248    -0.458067  \n",
       "...           ...          ...  \n",
       "1448    -0.439248     2.183088  \n",
       "1449     2.276616    -0.458067  \n",
       "1450    -0.439248    -0.458067  \n",
       "1451    -0.439248    -0.458067  \n",
       "1452    -0.439248    -0.458067  \n",
       "\n",
       "[1453 rows x 20 columns]"
      ]
     },
     "execution_count": 483,
     "metadata": {},
     "output_type": "execute_result"
    }
   ],
   "source": [
    "from sklearn.preprocessing import StandardScaler\n",
    "\n",
    "sc = StandardScaler()\n",
    "sc_data = sc.fit_transform(df1)\n",
    "scaled_data = pd.DataFrame(sc_data, columns = df1.columns)\n",
    "scaled_data"
   ]
  },
  {
   "cell_type": "code",
   "execution_count": 484,
   "id": "0d6a49a5",
   "metadata": {},
   "outputs": [
    {
     "data": {
      "text/plain": [
       "array([[-0.29482456,  0.0845459 , -0.08523915, ..., -0.17453232,\n",
       "        -0.11651259, -0.12150421],\n",
       "       [ 0.2581547 ,  0.09145577, -0.09220568, ..., -0.1887967 ,\n",
       "        -0.12603507, -0.13143466],\n",
       "       [-0.20730582,  0.05944843,  0.58040859, ..., -0.12272235,\n",
       "        -0.0819258 , -0.08543566],\n",
       "       ...,\n",
       "       [ 0.26351894,  0.09335615, -0.09412164, ...,  0.44514311,\n",
       "        -0.12865398, -0.13416576],\n",
       "       [ 0.19827202,  0.0702413 , -0.07081726, ..., -0.14500261,\n",
       "        -0.09679943, -0.10094651],\n",
       "       [-0.21553163,  0.06180732, -0.06231412, ..., -0.12759193,\n",
       "        -0.08517658, -0.08882571]])"
      ]
     },
     "execution_count": 484,
     "metadata": {},
     "output_type": "execute_result"
    }
   ],
   "source": [
    "from sklearn.preprocessing import normalize\n",
    "\n",
    "norm_data = normalize(sc_data)\n",
    "normed_data = pd.DataFrame(norm_data, columns = df1.columns)\n",
    "\n",
    "norm_data"
   ]
  },
  {
   "cell_type": "code",
   "execution_count": 485,
   "id": "44b32509",
   "metadata": {
    "scrolled": true
   },
   "outputs": [
    {
     "data": {
      "text/html": [
       "<div>\n",
       "<style scoped>\n",
       "    .dataframe tbody tr th:only-of-type {\n",
       "        vertical-align: middle;\n",
       "    }\n",
       "\n",
       "    .dataframe tbody tr th {\n",
       "        vertical-align: top;\n",
       "    }\n",
       "\n",
       "    .dataframe thead th {\n",
       "        text-align: right;\n",
       "    }\n",
       "</style>\n",
       "<table border=\"1\" class=\"dataframe\">\n",
       "  <thead>\n",
       "    <tr style=\"text-align: right;\">\n",
       "      <th></th>\n",
       "      <th>P1</th>\n",
       "      <th>P2</th>\n",
       "    </tr>\n",
       "  </thead>\n",
       "  <tbody>\n",
       "    <tr>\n",
       "      <th>0</th>\n",
       "      <td>0.360644</td>\n",
       "      <td>-0.275258</td>\n",
       "    </tr>\n",
       "    <tr>\n",
       "      <th>1</th>\n",
       "      <td>-0.164352</td>\n",
       "      <td>0.035751</td>\n",
       "    </tr>\n",
       "    <tr>\n",
       "      <th>2</th>\n",
       "      <td>0.100859</td>\n",
       "      <td>0.096559</td>\n",
       "    </tr>\n",
       "    <tr>\n",
       "      <th>3</th>\n",
       "      <td>-0.053014</td>\n",
       "      <td>-0.234040</td>\n",
       "    </tr>\n",
       "    <tr>\n",
       "      <th>4</th>\n",
       "      <td>-0.073503</td>\n",
       "      <td>-0.151901</td>\n",
       "    </tr>\n",
       "  </tbody>\n",
       "</table>\n",
       "</div>"
      ],
      "text/plain": [
       "         P1        P2\n",
       "0  0.360644 -0.275258\n",
       "1 -0.164352  0.035751\n",
       "2  0.100859  0.096559\n",
       "3 -0.053014 -0.234040\n",
       "4 -0.073503 -0.151901"
      ]
     },
     "execution_count": 485,
     "metadata": {},
     "output_type": "execute_result"
    }
   ],
   "source": [
    "from sklearn.decomposition import PCA\n",
    "\n",
    "pca = PCA(n_components = 2)\n",
    "x_principal1 = pca.fit_transform(norm_data)\n",
    "\n",
    "x_principal = pd.DataFrame(x_principal1)\n",
    "x_principal.columns = ['P1', 'P2']\n",
    "x_principal.head()"
   ]
  },
  {
   "cell_type": "markdown",
   "id": "2de43fed",
   "metadata": {},
   "source": [
    "## K-Means"
   ]
  },
  {
   "cell_type": "code",
   "execution_count": 486,
   "id": "05d781af",
   "metadata": {},
   "outputs": [],
   "source": [
    "from sklearn.cluster import KMeans"
   ]
  },
  {
   "cell_type": "code",
   "execution_count": 487,
   "id": "6729aba1",
   "metadata": {},
   "outputs": [],
   "source": [
    "from sklearn.metrics import silhouette_score\n",
    "n_clusters = [2,3,4,5,6,7,8,9,10]\n",
    "clusters_inertia = []\n",
    "s_scores = []\n",
    "\n",
    "for n in n_clusters:\n",
    "    km = KMeans(n_clusters = n, init = 'k-means++').fit(x_principal)\n",
    "    clusters_inertia.append(km.inertia_)\n",
    "    silhouette_avg = silhouette_score(x_principal, km.labels_)\n",
    "    s_scores.append(silhouette_avg)"
   ]
  },
  {
   "cell_type": "code",
   "execution_count": 488,
   "id": "41e4231c",
   "metadata": {},
   "outputs": [
    {
     "data": {
      "image/png": "[encoded data removed]",
      "text/plain": [
       "<Figure size 864x360 with 1 Axes>"
      ]
     },
     "metadata": {
      "needs_background": "light"
     },
     "output_type": "display_data"
    }
   ],
   "source": [
    "fig, ax = plt.subplots(figsize=(12,5))\n",
    "ax = sb.lineplot(n_clusters, clusters_inertia, marker='o', ax=ax)\n",
    "ax.set_title(\"Elbow Method\")\n",
    "ax.set_xlabel(\"Number of Clusters\")\n",
    "ax.set_ylabel(\"Cluster Inertia\")\n",
    "ax.axvline(5, ls = \"--\", c = \"red\")\n",
    "ax.axvline(6, ls = \"--\", c = \"red\")\n",
    "plt.grid()\n",
    "plt.show()"
   ]
  },
  {
   "cell_type": "markdown",
   "id": "8ba45eb8",
   "metadata": {},
   "source": [
    "#### Silhoutte score method indicates the best options would be respectively 5  or 6 clustres.\n",
    "#### Let's compare both\n",
    "### 5 clusters"
   ]
  },
  {
   "cell_type": "code",
   "execution_count": 489,
   "id": "5703cfbf",
   "metadata": {},
   "outputs": [],
   "source": [
    "km_5 = KMeans(n_clusters = 5, init = 'k-means++').fit(x_principal)\n",
    "\n",
    "km_clustered = df1.copy()\n",
    "km_clustered.loc[:,'Cluster'] = km_5.labels_"
   ]
  },
  {
   "cell_type": "code",
   "execution_count": 490,
   "id": "617070a4",
   "metadata": {},
   "outputs": [
    {
     "data": {
      "image/png": "[encoded data removed]",
      "text/plain": [
       "<Figure size 864x360 with 2 Axes>"
      ]
     },
     "metadata": {
      "needs_background": "light"
     },
     "output_type": "display_data"
    }
   ],
   "source": [
    "fig, (axes) = plt.subplots(1, 2, figsize = (12,5))\n",
    "scat_1 = sb.scatterplot('Age', 'Like', data = km_clustered, hue = 'Cluster', ax = axes[0], palette = 'Set1', legend = 'full')\n",
    "scat_2 = sb.scatterplot('Gender', 'Like', data = km_clustered, hue = 'Cluster', ax = axes[1], palette = 'Set1', legend = 'full')\n",
    "#axes[0].scatter(km_clustered.cluster_centers_[:,11], km_clustered.cluster_centers_[:,12], marker = 's', s = 40, c = 'blue')\n",
    "#axes[1].scatter(km_clustered.cluster_centers_[:,11], km_clustered.cluster_centers_[:,14], marker = 's', s = 40, c = 'blue')\n",
    "plt.show()"
   ]
  },
  {
   "cell_type": "markdown",
   "id": "5fa482d5",
   "metadata": {},
   "source": [
    "### 6 Clusters"
   ]
  },
  {
   "cell_type": "code",
   "execution_count": 501,
   "id": "bf075cd6",
   "metadata": {},
   "outputs": [],
   "source": [
    "km_6 = KMeans(n_clusters = 6, init = 'k-means++').fit(x_principal)\n",
    "\n",
    "km_clustered = df1.copy()\n",
    "km_clustered.loc[:,'Cluster'] = km_6.labels_"
   ]
  },
  {
   "cell_type": "code",
   "execution_count": 503,
   "id": "2924611c",
   "metadata": {},
   "outputs": [
    {
     "data": {
      "image/png": "[encoded data removed]",
      "text/plain": [
       "<Figure size 864x360 with 2 Axes>"
      ]
     },
     "metadata": {
      "needs_background": "light"
     },
     "output_type": "display_data"
    }
   ],
   "source": [
    "fig, (axes) = plt.subplots(1, 2, figsize = (12,5))\n",
    "scat_1 = sb.scatterplot('Age', 'Like', data = km_clustered, hue = 'Cluster', ax = axes[0], palette = 'Set1', legend = 'full')\n",
    "scat_2 = sb.scatterplot('Gender', 'Like', data = km_clustered, hue = 'Cluster', ax = axes[1], palette = 'Set1', legend = 'full')\n",
    "#axes[0].scatter(km_clustered.cluster_centers_[:,11], km_clustered.cluster_centers_[:,12], marker = 's', s = 40, c = 'blue')\n",
    "#axes[1].scatter(km_clustered.cluster_centers_[:,11], km_clustered.cluster_centers_[:,14], marker = 's', s = 40, c = 'blue')\n",
    "plt.show()"
   ]
  },
  {
   "cell_type": "markdown",
   "id": "f9e5daeb",
   "metadata": {},
   "source": [
    "### I have also tried DBSCAN, but due to unequal param it getting, not giving perfect analysis"
   ]
  },
  {
   "cell_type": "markdown",
   "id": "26bacbb6",
   "metadata": {},
   "source": [
    "## DBSCAN"
   ]
  },
  {
   "cell_type": "code",
   "execution_count": 493,
   "id": "4cd8e261",
   "metadata": {},
   "outputs": [],
   "source": [
    "from sklearn.cluster import DBSCAN"
   ]
  },
  {
   "cell_type": "code",
   "execution_count": 494,
   "id": "2c47f9b0",
   "metadata": {},
   "outputs": [],
   "source": [
    "from itertools import product\n",
    "\n",
    "eps_values = np.arange(8, 12.75, 0.25) #eps values to be investigated\n",
    "min_samples = np.arange(3, 10) # min_samples values to be investigated\n",
    "DBSCAN_params = list(product(eps_values, min_samples))"
   ]
  },
  {
   "cell_type": "code",
   "execution_count": 495,
   "id": "8a23e1f8",
   "metadata": {},
   "outputs": [],
   "source": [
    "from sklearn.metrics import silhouette_score\n",
    "no_of_clusters = []\n",
    "sil_score = []\n",
    "\n",
    "for p in DBSCAN_params:\n",
    "    DBS_clustering = DBSCAN(eps=p[0], min_samples=p[1]).fit(x_principal)\n",
    "    no_of_clusters.append(len(np.unique(DBS_clustering.labels_)))\n",
    "    sil_score.append(silhouette_score(x_principal,DBS_clustering.labels_))"
   ]
  },
  {
   "cell_type": "code",
   "execution_count": null,
   "id": "7dc132b0",
   "metadata": {},
   "outputs": [],
   "source": []
  }
 ],
 "metadata": {
  "kernelspec": {
   "display_name": "Python 3 (ipykernel)",
   "language": "python",
   "name": "python3"
  },
  "language_info": {
   "codemirror_mode": {
    "name": "ipython",
    "version": 3
   },
   "file_extension": ".py",
   "mimetype": "text/x-python",
   "name": "python",
   "nbconvert_exporter": "python",
   "pygments_lexer": "ipython3",
   "version": "3.9.12"
  }
 },
 "nbformat": 4,
 "nbformat_minor": 5
}
